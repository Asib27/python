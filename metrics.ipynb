{
 "cells": [
  {
   "cell_type": "code",
   "execution_count": 3,
   "id": "1e82c052",
   "metadata": {},
   "outputs": [],
   "source": [
    "import pandas as pd\n",
    "import numpy as np"
   ]
  },
  {
   "cell_type": "markdown",
   "id": "fc2b2a88",
   "metadata": {},
   "source": [
    "top_four_percent_captured metric"
   ]
  },
  {
   "cell_type": "code",
   "execution_count": 4,
   "id": "adc55b90",
   "metadata": {},
   "outputs": [],
   "source": [
    "def top_four_percent_captured(y_true: pd.DataFrame, y_pred: pd.DataFrame) -> float:\n",
    "        df = (pd.concat([y_true, y_pred], axis='columns')\n",
    "              .sort_values('prediction', ascending=False))\n",
    "        df['weight'] = df['target'].apply(lambda x: 20 if x == 0 else 1)\n",
    "        four_pct_cutoff = int(0.04 * df['weight'].sum())\n",
    "        df['weight_cumsum'] = df['weight'].cumsum()\n",
    "        df_cutoff = df.loc[df['weight_cumsum'] <= four_pct_cutoff]\n",
    "        return (df_cutoff['target'] == 1).sum() / (df['target'] == 1).sum()"
   ]
  },
  {
   "cell_type": "markdown",
   "id": "34fd7909",
   "metadata": {},
   "source": [
    "weighted_gini metric"
   ]
  },
  {
   "cell_type": "code",
   "execution_count": 5,
   "id": "3c011c8d",
   "metadata": {},
   "outputs": [],
   "source": [
    "def weighted_gini(y_true: pd.DataFrame, y_pred: pd.DataFrame) -> float:\n",
    "        df = (pd.concat([y_true, y_pred], axis='columns')\n",
    "              .sort_values('prediction', ascending=False))\n",
    "        df['weight'] = df['target'].apply(lambda x: 20 if x == 0 else 1)\n",
    "        df['random'] = (df['weight'] / df['weight'].sum()).cumsum()\n",
    "        total_pos = (df['target'] * df['weight']).sum()\n",
    "        df['cum_pos_found'] = (df['target'] * df['weight']).cumsum()\n",
    "        df['lorentz'] = df['cum_pos_found'] / total_pos\n",
    "        df['gini'] = (df['lorentz'] - df['random']) * df['weight']\n",
    "        return df['gini'].sum()"
   ]
  },
  {
   "cell_type": "markdown",
   "id": "e14859fd",
   "metadata": {},
   "source": [
    "normalized_weighted_gini"
   ]
  },
  {
   "cell_type": "code",
   "execution_count": 6,
   "id": "8836a8fe",
   "metadata": {},
   "outputs": [],
   "source": [
    "def normalized_weighted_gini(y_true: pd.DataFrame, y_pred: pd.DataFrame) -> float:\n",
    "        y_true_pred = y_true.rename(columns={'target': 'prediction'})\n",
    "        return weighted_gini(y_true, y_pred) / weighted_gini(y_true, y_true_pred)"
   ]
  },
  {
   "cell_type": "markdown",
   "id": "20aedd20",
   "metadata": {},
   "source": [
    "plot confusion metric"
   ]
  },
  {
   "cell_type": "code",
   "execution_count": 9,
   "id": "5776034a",
   "metadata": {},
   "outputs": [],
   "source": [
    "import matplotlib.pyplot as plt\n",
    "import itertools\n",
    "from sklearn.metrics import confusion_matrix\n",
    "\n",
    "def plot_confusion_matrix(train_y, y_pred):\n",
    "    def plot_confusion_matrix_helper(cm, classes,\n",
    "                              normalize = False,\n",
    "                              title = 'Confusion matrix\"',\n",
    "                              cmap = plt.cm.Blues) :\n",
    "        plt.imshow(cm, interpolation = 'nearest', cmap = cmap)\n",
    "        plt.title(title)\n",
    "        plt.colorbar()\n",
    "        tick_marks = np.arange(len(classes))\n",
    "        plt.xticks(tick_marks, classes, rotation = 0)\n",
    "        plt.yticks(tick_marks, classes)\n",
    "\n",
    "        thresh = cm.max() / 2.\n",
    "        for i, j in itertools.product(range(cm.shape[0]), range(cm.shape[1])) :\n",
    "            plt.text(j, i, cm[i, j],\n",
    "                     horizontalalignment = 'center',\n",
    "                     color = 'white' if cm[i, j] > thresh else 'black')\n",
    "\n",
    "        plt.tight_layout()\n",
    "        plt.ylabel('True label')\n",
    "        plt.xlabel('Predicted label')\n",
    "    \n",
    "    cm = confusion_matrix(train_y, y_pred)\n",
    "    class_names = [0,1]\n",
    "    plt.figure()\n",
    "    plot_confusion_matrix_helper(cm,\n",
    "                          classes = class_names,\n",
    "                          title = f'Confusion matrix at 4%')\n",
    "    plt.show()"
   ]
  }
 ],
 "metadata": {
  "kernelspec": {
   "display_name": "Python 3 (ipykernel)",
   "language": "python",
   "name": "python3"
  },
  "language_info": {
   "codemirror_mode": {
    "name": "ipython",
    "version": 3
   },
   "file_extension": ".py",
   "mimetype": "text/x-python",
   "name": "python",
   "nbconvert_exporter": "python",
   "pygments_lexer": "ipython3",
   "version": "3.10.4"
  }
 },
 "nbformat": 4,
 "nbformat_minor": 5
}
