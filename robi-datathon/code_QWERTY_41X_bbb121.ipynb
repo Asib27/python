{
 "cells": [
  {
   "cell_type": "markdown",
   "metadata": {},
   "source": [
    "importing columns:\n",
    "\n",
    "catboost is used as ml model\n",
    "pandas and numpy used for data manipulation"
   ]
  },
  {
   "cell_type": "code",
   "execution_count": 7,
   "metadata": {},
   "outputs": [],
   "source": [
    "import pandas as pd\n",
    "import numpy as np\n",
    "import matplotlib.pyplot as plt\n",
    "import seaborn as sns\n",
    "from sklearn.model_selection import StratifiedKFold, train_test_split\n",
    "from sklearn import metrics\n",
    "from catboost import CatBoostClassifier, Pool"
   ]
  },
  {
   "cell_type": "markdown",
   "metadata": {},
   "source": [
    "Reading and cleaning data:\n",
    "\n",
    "train_data and test_data is read\n",
    "some cells are removed as they were either empty or does not have enough to correlation"
   ]
  },
  {
   "cell_type": "code",
   "execution_count": 3,
   "metadata": {},
   "outputs": [],
   "source": [
    "train_data = pd.read_csv('train.csv')\n",
    "test_data = pd.read_csv('test.csv')\n",
    "\n",
    "remove_cells = ['id', 's54', 's55', 's56', 's57', 's59']\n",
    "\n",
    "train_data.drop(remove_cells, inplace=True, axis=1)\n",
    "test_id = test_data['id']\n",
    "test_data.drop(remove_cells, inplace=True, axis=1)"
   ]
  },
  {
   "cell_type": "code",
   "execution_count": 4,
   "metadata": {},
   "outputs": [
    {
     "data": {
      "text/plain": [
       "Index(['gender', 's11', 's12', 's13', 's16', 's17', 's18', 's48', 's52', 's53',\n",
       "       's58', 's69', 's70', 's71', 'n1', 'n2', 'n3', 'n4', 'n5', 'n6', 'n7',\n",
       "       'n8', 'n9', 'n10', 'n11', 'n12', 'n13', 'n14', 'n15'],\n",
       "      dtype='object')"
      ]
     },
     "execution_count": 4,
     "metadata": {},
     "output_type": "execute_result"
    }
   ],
   "source": [
    "y = train_data['label']\n",
    "X = train_data.drop('label', axis = 1)\n",
    "X.columns"
   ]
  },
  {
   "cell_type": "markdown",
   "metadata": {},
   "source": [
    "Training and testing model:\n",
    "cat features are the columns used for categorization\n",
    "k fold testing is used\n",
    "catboost turns out to be best model"
   ]
  },
  {
   "cell_type": "code",
   "execution_count": 5,
   "metadata": {},
   "outputs": [
    {
     "name": "stdout",
     "output_type": "stream",
     "text": [
      "Auc:  0.8680617231712529\n",
      "Auc:  0.8733240331705803\n",
      "Auc:  0.8732548390214735\n"
     ]
    },
    {
     "data": {
      "image/png": "[encoded data removed]",
      "text/plain": [
       "<Figure size 432x288 with 1 Axes>"
      ]
     },
     "metadata": {
      "needs_background": "light"
     },
     "output_type": "display_data"
    }
   ],
   "source": [
    "cat_features = ['gender', 's11', 's12', 's13', 's16', 's17', 's18', 's48', 's52', 's53',\n",
    "    's58', 's69', 's70', 's71']\n",
    "\n",
    "skf = StratifiedKFold(n_splits=3)\n",
    "\n",
    "for train_idx, test_idx in skf.split(X, y):\n",
    "    X_train, X_test = X.iloc[train_idx], X.iloc[test_idx]\n",
    "    Y_train, Y_test = y[train_idx], y[test_idx]\n",
    "\n",
    "    pool_train = Pool(X_train, Y_train, cat_features=cat_features)\n",
    "    pool_test = Pool(X_test, cat_features=cat_features)\n",
    "\n",
    "    model = CatBoostClassifier(eval_metric='AUC')\n",
    "    model.fit(pool_train, verbose=0)\n",
    "\n",
    "    probs = model.predict_proba(pool_test)\n",
    "    preds = probs[:,1]\n",
    "    fpr, tpr, thr = metrics.roc_curve(Y_test, preds)\n",
    "    roc_auc = metrics.auc(fpr, tpr)\n",
    "    print('Auc: ', roc_auc)"
   ]
  },
  {
   "cell_type": "code",
   "execution_count": 11,
   "metadata": {},
   "outputs": [
    {
     "name": "stdout",
     "output_type": "stream",
     "text": [
      "Auc:  0.8841852639036485\n"
     ]
    },
    {
     "data": {
      "image/png": "[encoded data removed]",
      "text/plain": [
       "<Figure size 432x288 with 1 Axes>"
      ]
     },
     "metadata": {
      "needs_background": "light"
     },
     "output_type": "display_data"
    }
   ],
   "source": [
    "def onefold():\n",
    "    X_train, X_test, Y_train, Y_test = train_test_split(X, y, test_size=.2, random_state=1927)\n",
    "    \n",
    "    pool_train = Pool(X_train, Y_train, cat_features=cat_features)\n",
    "    pool_test = Pool(X_test, cat_features=cat_features)\n",
    "\n",
    "    model = CatBoostClassifier(eval_metric='AUC')\n",
    "    model.fit(pool_train, verbose=0)\n",
    "\n",
    "    return model\n",
    "\n",
    "    \n",
    "mod = onefold()"
   ]
  },
  {
   "cell_type": "code",
   "execution_count": 21,
   "metadata": {},
   "outputs": [
    {
     "name": "stdout",
     "output_type": "stream",
     "text": [
      "Auc:  0.7725231213659371\n"
     ]
    },
    {
     "data": {
      "text/plain": [
       "[<matplotlib.lines.Line2D at 0x7f01ef282620>]"
      ]
     },
     "execution_count": 21,
     "metadata": {},
     "output_type": "execute_result"
    },
    {
     "data": {
      "image/png": "[encoded data removed]",
      "text/plain": [
       "<Figure size 432x288 with 1 Axes>"
      ]
     },
     "metadata": {
      "needs_background": "light"
     },
     "output_type": "display_data"
    }
   ],
   "source": [
    "probs = model.predict_proba(pool_test)\n",
    "preds = probs[:,1]\n",
    "preds = preds > .3\n",
    "fpr, tpr, thr = metrics.roc_curve(Y_test, preds)\n",
    "roc_auc = metrics.auc(fpr, tpr)\n",
    "print('Auc: ', roc_auc)\n",
    "plt.plot(fpr, tpr)"
   ]
  },
  {
   "cell_type": "markdown",
   "metadata": {},
   "source": [
    "Training on full data:\n",
    "Model is trained on full data"
   ]
  },
  {
   "cell_type": "code",
   "execution_count": 22,
   "metadata": {},
   "outputs": [
    {
     "name": "stdout",
     "output_type": "stream",
     "text": [
      "Learning rate set to 0.042953\n",
      "0:\ttotal: 94.6ms\tremaining: 1m 34s\n",
      "200:\ttotal: 16.4s\tremaining: 1m 5s\n",
      "400:\ttotal: 41.1s\tremaining: 1m 1s\n",
      "600:\ttotal: 56.8s\tremaining: 37.7s\n",
      "800:\ttotal: 1m 16s\tremaining: 19.1s\n",
      "999:\ttotal: 1m 35s\tremaining: 0us\n"
     ]
    },
    {
     "data": {
      "text/plain": [
       "<catboost.core.CatBoostClassifier at 0x7f01ef2837f0>"
      ]
     },
     "execution_count": 22,
     "metadata": {},
     "output_type": "execute_result"
    }
   ],
   "source": [
    "pool_train = Pool(X, y, cat_features=cat_features)\n",
    "pool_eval = Pool(test_data, cat_features=cat_features)\n",
    "\n",
    "model = CatBoostClassifier(eval_metric='AUC')\n",
    "model.fit(pool_train, verbose=200)"
   ]
  },
  {
   "cell_type": "markdown",
   "metadata": {},
   "source": [
    "prediction and submission"
   ]
  },
  {
   "cell_type": "code",
   "execution_count": 28,
   "metadata": {},
   "outputs": [],
   "source": [
    "probs = model.predict_proba(pool_eval)\n",
    "preds = probs[:, 1]\n",
    "preds = (preds > .8).astype(\"int\")\n",
    "submit_df = pd.DataFrame(data={'id' : test_id, 'label': preds})\n",
    "submit_df.to_csv('Submissiion_QWERTY_41X_bbb121.csv', index=False)"
   ]
  },
  {
   "cell_type": "code",
   "execution_count": 29,
   "metadata": {},
   "outputs": [
    {
     "data": {
      "text/plain": [
       "10481"
      ]
     },
     "execution_count": 29,
     "metadata": {},
     "output_type": "execute_result"
    }
   ],
   "source": [
    "sum(preds)"
   ]
  }
 ],
 "metadata": {
  "interpreter": {
   "hash": "916dbcbb3f70747c44a77c7bcd40155683ae19c65e1c03b4aa3499c5328201f1"
  },
  "kernelspec": {
   "display_name": "Python 3.10.4 64-bit",
   "language": "python",
   "name": "python3"
  },
  "language_info": {
   "codemirror_mode": {
    "name": "ipython",
    "version": 3
   },
   "file_extension": ".py",
   "mimetype": "text/x-python",
   "name": "python",
   "nbconvert_exporter": "python",
   "pygments_lexer": "ipython3",
   "version": "3.10.4"
  },
  "orig_nbformat": 4
 },
 "nbformat": 4,
 "nbformat_minor": 2
}
